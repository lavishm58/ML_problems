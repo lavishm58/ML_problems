{
 "cells": [
  {
   "cell_type": "code",
   "execution_count": 165,
   "metadata": {
    "collapsed": false
   },
   "outputs": [],
   "source": [
    "import pandas as pd\n",
    "import numpy as np\n",
    "from sklearn.linear_model import LinearRegression\n",
    "import  scipy.stats as stats\n",
    "import numpy.ma as ma\n",
    "from sklearn import preprocessing"
   ]
  },
  {
   "cell_type": "code",
   "execution_count": 166,
   "metadata": {
    "collapsed": false
   },
   "outputs": [],
   "source": [
    "train = pd.read_csv('/home/gamechanger/Downloads/ml_handson/train.csv',na_values='NA')\n",
    "test=pd.read_csv('/home/gamechanger/Downloads/ml_handson/test_house.csv',na_values='NA')"
   ]
  },
  {
   "cell_type": "code",
   "execution_count": 167,
   "metadata": {
    "collapsed": false
   },
   "outputs": [
    {
     "data": {
      "text/plain": [
       "array([[-1.73145754,  0.06733141, -0.20206753, ..., -0.12653513,\n",
       "         0.46393674, -0.30269297],\n",
       "       [-1.7302708 , -0.87361603,  0.50187048, ..., -0.12653513,\n",
       "         0.46393674, -0.30269297],\n",
       "       [-1.72908405,  0.06733141, -0.06127993, ..., -0.12653513,\n",
       "         0.46393674, -0.30269297],\n",
       "       ..., \n",
       "       [ 1.72908405, -0.87361603,  4.25620653, ..., -0.12653513,\n",
       "        -2.15546626, -0.30269297],\n",
       "       [ 1.7302708 ,  0.65542357, -0.34285513, ..., -0.12653513,\n",
       "         0.46393674, -0.30269297],\n",
       "       [ 1.73145754,  0.06733141,  0.22029527, ..., -0.12653513,\n",
       "         0.46393674, -0.30269297]])"
      ]
     },
     "execution_count": 167,
     "metadata": {},
     "output_type": "execute_result"
    }
   ],
   "source": [
    "prices=train['SalePrice']\n",
    "train.drop('SalePrice',axis=1,inplace=True)\n",
    "all_data=pd.concat([train,test])\n",
    "all_data=pd.get_dummies(all_data)\n",
    "X=all_data.as_matrix()\n",
    "col_mean = np.nanmean(X,axis=0)\n",
    "X=np.where(np.isnan(X),col_mean,X)\n",
    "np.where(np.isnan(X))\n",
    "scaler = preprocessing.StandardScaler().fit(X)\n",
    "scaler.transform(X)"
   ]
  },
  {
   "cell_type": "code",
   "execution_count": 168,
   "metadata": {
    "collapsed": false
   },
   "outputs": [
    {
     "data": {
      "text/plain": [
       "(1095,)"
      ]
     },
     "execution_count": 168,
     "metadata": {},
     "output_type": "execute_result"
    }
   ],
   "source": [
    "X_train=X[:int(train.shape[0]*0.75),:]\n",
    "prices_train=prices[:int(train.shape[0]*0.75)]\n",
    "X_dev=X[int(train.shape[0]*0.75):train.shape[0]]\n",
    "prices_dev=prices[int(train.shape[0]*0.75):train.shape[0]]\n",
    "X_test=X[train.shape[0]:,:]\n",
    "prices_train.shape"
   ]
  },
  {
   "cell_type": "code",
   "execution_count": 169,
   "metadata": {
    "collapsed": false
   },
   "outputs": [
    {
     "data": {
      "text/plain": [
       "LinearRegression(copy_X=True, fit_intercept=True, n_jobs=1, normalize=False)"
      ]
     },
     "execution_count": 169,
     "metadata": {},
     "output_type": "execute_result"
    }
   ],
   "source": [
    "lr = LinearRegression()\n",
    "lr.fit(X_train,prices_train)"
   ]
  },
  {
   "cell_type": "code",
   "execution_count": 170,
   "metadata": {
    "collapsed": false
   },
   "outputs": [
    {
     "data": {
      "text/plain": [
       "0.16164629467124794"
      ]
     },
     "execution_count": 170,
     "metadata": {},
     "output_type": "execute_result"
    }
   ],
   "source": [
    "Y=lr.predict(X_dev)\n",
    "sq_diff = np.square(np.log(prices_dev) - np.log(Y))\n",
    "error = np.sqrt(np.sum(sq_diff) / prices_dev.shape[0])\n",
    "error"
   ]
  },
  {
   "cell_type": "code",
   "execution_count": 171,
   "metadata": {
    "collapsed": false
   },
   "outputs": [],
   "source": [
    "Y = lr.predict(X_test)\n",
    "out=pd.DataFrame()\n",
    "out['Id']=[i for i in range(train.shape[0]+1,(train.shape[0]+test.shape[0]+1))]\n",
    "out['SalePrice']=Y\n",
    "out.to_csv('output18.csv',index=False)"
   ]
  },
  {
   "cell_type": "code",
   "execution_count": 172,
   "metadata": {
    "collapsed": false
   },
   "outputs": [
    {
     "data": {
      "text/plain": [
       "1095"
      ]
     },
     "execution_count": 172,
     "metadata": {},
     "output_type": "execute_result"
    }
   ],
   "source": [
    "X_train.shape[0]"
   ]
  },
  {
   "cell_type": "code",
   "execution_count": null,
   "metadata": {
    "collapsed": true
   },
   "outputs": [],
   "source": []
  }
 ],
 "metadata": {
  "anaconda-cloud": {},
  "kernelspec": {
   "display_name": "Python [conda env:ml]",
   "language": "python",
   "name": "conda-env-ml-py"
  },
  "language_info": {
   "codemirror_mode": {
    "name": "ipython",
    "version": 3
   },
   "file_extension": ".py",
   "mimetype": "text/x-python",
   "name": "python",
   "nbconvert_exporter": "python",
   "pygments_lexer": "ipython3",
   "version": "3.5.2"
  }
 },
 "nbformat": 4,
 "nbformat_minor": 1
}
