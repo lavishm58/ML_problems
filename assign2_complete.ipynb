{
 "cells": [
  {
   "cell_type": "code",
   "execution_count": 2,
   "metadata": {
    "collapsed": true
   },
   "outputs": [],
   "source": [
    "import numpy as np\n",
    "import tensorflow as tf\n",
    "from __future__ import print_function\n",
    "from six.moves import cPickle as pickle\n",
    "from six.moves import range\n",
    "import os"
   ]
  },
  {
   "cell_type": "code",
   "execution_count": 3,
   "metadata": {
    "collapsed": false
   },
   "outputs": [
    {
     "name": "stdout",
     "output_type": "stream",
     "text": [
      "training shape (200000, 28, 28) (200000,)\n",
      "valid shape (10000, 28, 28) (10000,)\n",
      "test shape (10000, 28, 28) (10000,)\n"
     ]
    }
   ],
   "source": [
    "pickle_file = 'notMNIST.pickle'\n",
    "with open(pickle_file,'rb') as f:\n",
    "    save = pickle.load(f)\n",
    "    train_dataset = save['train_dataset']\n",
    "    train_labels = save['train_labels']\n",
    "    valid_dataset = save['valid_dataset']\n",
    "    valid_labels = save['valid_labels']\n",
    "    test_dataset = save['test_dataset']\n",
    "    test_labels = save['test_labels']\n",
    "    del save\n",
    "    print('training shape',train_dataset.shape,train_labels.shape)\n",
    "    print('valid shape',valid_dataset.shape,valid_labels.shape)\n",
    "    print('test shape',test_dataset.shape,test_labels.shape)"
   ]
  },
  {
   "cell_type": "code",
   "execution_count": 4,
   "metadata": {
    "collapsed": false
   },
   "outputs": [
    {
     "name": "stdout",
     "output_type": "stream",
     "text": [
      "training shape (200000, 784) (200000, 10)\n",
      "valid shape (10000, 784) (10000, 10)\n",
      "test shape (10000, 784) (10000, 10)\n"
     ]
    }
   ],
   "source": [
    "img_dim = 28\n",
    "num_label = 10\n",
    "def reformat(dataset,label):\n",
    "    dataset = dataset.reshape((-1,img_dim*img_dim)).astype(np.float32)\n",
    "    label = (np.arange(num_label) == label[:,None]).astype(np.float32)\n",
    "    return dataset,label\n",
    "train_dataset,train_labels = reformat(train_dataset,train_labels)\n",
    "valid_dataset,valid_labels = reformat(valid_dataset,valid_labels)\n",
    "test_dataset,test_labels = reformat(test_dataset,test_labels)\n",
    "print('training shape',train_dataset.shape,train_labels.shape)\n",
    "print('valid shape',valid_dataset.shape,valid_labels.shape)\n",
    "print('test shape',test_dataset.shape,test_labels.shape)"
   ]
  },
  {
   "cell_type": "code",
   "execution_count": 4,
   "metadata": {
    "collapsed": false
   },
   "outputs": [],
   "source": [
    "train_subset = 10000\n",
    "graph = tf.Graph()\n",
    "with graph.as_default():\n",
    "    tf_train = tf.constant(train_dataset[:train_subset,:])\n",
    "    tf_train_label = tf.constant(train_labels[:train_subset])\n",
    "    tf_test = tf.constant(test_dataset)\n",
    "    tf_valid = tf.constant(valid_dataset)\n",
    "    \n",
    "    #defining layers\n",
    "    weights = tf.Variable(tf.truncated_normal(shape=[img_dim*img_dim,num_label]))\n",
    "    biases = tf.Variable(tf.zeros(shape=[10]))\n",
    "    \n",
    "    logits = tf.matmul(tf_train,weights)+biases\n",
    "    loss = tf.reduce_mean(tf.nn.softmax_cross_entropy_with_logits(logits=logits,labels=tf_train_label))\n",
    "    \n",
    "    #optimizer\n",
    "    optimizer = tf.train.GradientDescentOptimizer(0.5).minimize(loss)\n",
    "    \n",
    "    #predictions\n",
    "    train_prediction = tf.nn.softmax(logits)\n",
    "    valid_prediction = tf.nn.softmax(tf.matmul(tf_valid,weights)+biases)\n",
    "    test_prediction = tf.nn.softmax(tf.matmul(tf_test,weights)+biases)"
   ]
  },
  {
   "cell_type": "code",
   "execution_count": 31,
   "metadata": {
    "collapsed": false
   },
   "outputs": [
    {
     "name": "stdout",
     "output_type": "stream",
     "text": [
      "training accuracy 9.240000\n",
      "loss at step 0 :18.537615\n",
      "validation_accuracy 10.760000\n",
      "training accuracy 72.380000\n",
      "loss at step 100 :2.258971\n",
      "validation_accuracy 70.840000\n",
      "training accuracy 75.550000\n",
      "loss at step 200 :1.834490\n",
      "validation_accuracy 72.950000\n",
      "training accuracy 76.930000\n",
      "loss at step 300 :1.601650\n",
      "validation_accuracy 74.080000\n",
      "training accuracy 77.940000\n",
      "loss at step 400 :1.441922\n",
      "validation_accuracy 74.430000\n",
      "training accuracy 78.580000\n",
      "loss at step 500 :1.321468\n",
      "validation_accuracy 74.910000\n",
      "training accuracy 79.000000\n",
      "loss at step 600 :1.225886\n",
      "validation_accuracy 75.130000\n",
      "training accuracy 79.440000\n",
      "loss at step 700 :1.147394\n",
      "validation_accuracy 75.360000\n",
      "test accuracy 82.914975\n"
     ]
    }
   ],
   "source": [
    "num_step = 800\n",
    "\n",
    "def accuracy(predictions,labels):\n",
    "    return 100*np.sum(np.argmax(predictions,1)==np.argmax(labels,1))/predictions.shape[0]\n",
    "\n",
    "with tf.Session(graph=graph) as session:\n",
    "    tf.global_variables_initializer().run()\n",
    "    \n",
    "    for step in range(num_step):\n",
    "        _,l,predictions = session.run([optimizer,loss,train_prediction])\n",
    "        \n",
    "        if (step%100==0):\n",
    "            print('training accuracy %f'% accuracy(predictions,train_labels[:train_subset]))\n",
    "            print('loss at step %d :%f'%(step,l))\n",
    "            print('validation_accuracy %f'% accuracy(valid_prediction.eval(),valid_labels))\n",
    "    print('test accuracy %f'% accuracy(test_prediction.eval(),test_labels))"
   ]
  },
  {
   "cell_type": "code",
   "execution_count": 5,
   "metadata": {
    "collapsed": false
   },
   "outputs": [
    {
     "name": "stdout",
     "output_type": "stream",
     "text": [
      "(128, 1024)\n",
      "(10000, 1024)\n",
      "(10000, 1024)\n"
     ]
    }
   ],
   "source": [
    "batch_size = 128\n",
    "num_nodes = 1024\n",
    "\n",
    "graph = tf.Graph()\n",
    "\n",
    "with graph.as_default():\n",
    "\n",
    "  # Input data. For the training data, we use a placeholder that will be fed\n",
    "  # at run time with a training minibatch.\n",
    "  tf_train_dataset = tf.placeholder(tf.float32,\n",
    "                                    shape=(batch_size, img_dim* img_dim))\n",
    "  tf_train_labels = tf.placeholder(tf.float32, shape=(batch_size, num_label))\n",
    "  tf_valid_dataset = tf.constant(valid_dataset)\n",
    "  tf_test_dataset = tf.constant(test_dataset)\n",
    "\n",
    "  # Variables.\n",
    "\n",
    "  weights1 = tf.Variable(\n",
    "    tf.truncated_normal([img_dim * img_dim,1024]))\n",
    "  biases1 = tf.Variable(tf.zeros([1024]))\n",
    "  weights2 = tf.Variable(\n",
    "    tf.truncated_normal([num_nodes,num_label]))\n",
    "  biases2 = tf.Variable(tf.zeros([num_label]))    \n",
    "  beta = tf.Variable(tf.ones([1]))\n",
    "  # Training computation.\n",
    "  def logits_compute_train(tf_dataset):\n",
    "      hidden_layer = tf.matmul(tf_dataset,weights1)+biases1\n",
    "      after_relu = tf.nn.relu(hidden_layer)\n",
    "      tf.nn.dropout(x=after_relu,keep_prob=0.5)\n",
    "      print(after_relu.get_shape())  \n",
    "      logits = tf.matmul(after_relu,weights2) + biases2\n",
    "      return logits\n",
    "    \n",
    "  def logits_compute(tf_dataset):\n",
    "      hidden_layer = tf.matmul(tf_dataset,weights1)+biases1\n",
    "      tf.nn.dropout(x=hidden_layer,keep_prob=0.5)\n",
    "      after_relu = tf.nn.relu(hidden_layer)\n",
    "      print(after_relu.get_shape())  \n",
    "      logits = tf.matmul(after_relu,weights2) + biases2\n",
    "      return logits\n",
    "\n",
    "  logits = logits_compute_train(tf_train_dataset)  \n",
    "\n",
    "  loss = tf.reduce_mean(\n",
    "    tf.nn.softmax_cross_entropy_with_logits(labels=tf_train_labels, logits=logits))\n",
    "\n",
    "  loss += 0.0005*tf.nn.l2_loss(tf_train_dataset)     \n",
    "\n",
    "  # Optimizer.\n",
    "  optimizer = tf.train.GradientDescentOptimizer(0.1).minimize(loss)\n",
    "\n",
    "  # Predictions for the training, validation, and test data.\n",
    "  train_prediction = tf.nn.softmax(logits)\n",
    "  valid_prediction = tf.nn.softmax(logits_compute(tf_valid_dataset))\n",
    "  test_prediction = tf.nn.softmax(logits_compute(tf_test_dataset))"
   ]
  },
  {
   "cell_type": "code",
   "execution_count": 6,
   "metadata": {
    "collapsed": false
   },
   "outputs": [
    {
     "name": "stdout",
     "output_type": "stream",
     "text": [
      "Minibatch loss at step 0: 318.176971\n",
      "Minibatch accuracy: 9.4%\n",
      "Validation accuracy: 23.6%\n",
      "Minibatch loss at step 1000: 17.791245\n",
      "Minibatch accuracy: 82.8%\n",
      "Validation accuracy: 81.0%\n",
      "Minibatch loss at step 2000: 19.342945\n",
      "Minibatch accuracy: 85.9%\n",
      "Validation accuracy: 80.9%\n",
      "Minibatch loss at step 3000: 12.553429\n",
      "Minibatch accuracy: 83.6%\n",
      "Validation accuracy: 80.5%\n",
      "Minibatch loss at step 4000: 11.684322\n",
      "Minibatch accuracy: 82.0%\n",
      "Validation accuracy: 80.9%\n",
      "Minibatch loss at step 5000: 9.091236\n",
      "Minibatch accuracy: 85.2%\n",
      "Validation accuracy: 83.7%\n",
      "Test accuracy: 90.9%\n"
     ]
    }
   ],
   "source": [
    "num_step = 5001\n",
    "\n",
    "def accuracy(predictions,labels):\n",
    "    return 100*np.sum(np.argmax(predictions,1)==np.argmax(labels,1))/predictions.shape[0]\n",
    "with tf.Session(graph=graph) as session:\n",
    "    tf.global_variables_initializer().run()\n",
    "    for step in range(num_step):\n",
    "        offset = (step*batch_size)%(train_labels.shape[0]-batch_size)\n",
    "        batch_data = train_dataset[offset:(offset+batch_size),:]\n",
    "        batch_labels = train_labels[offset:(offset+batch_size),:]\n",
    "        feed_dict = {tf_train_dataset : batch_data,tf_train_labels: batch_labels}\n",
    "\n",
    "        _,l,predictions = session.run([optimizer,loss,train_prediction],feed_dict=feed_dict)\n",
    "\n",
    "        if (step % 1000 == 0):\n",
    "          print(\"Minibatch loss at step %d: %f\" % (step, l))\n",
    "          print(\"Minibatch accuracy: %.1f%%\" % accuracy(predictions, batch_labels))\n",
    "          print(\"Validation accuracy: %.1f%%\" % accuracy(\n",
    "            valid_prediction.eval(), valid_labels))\n",
    "    print(\"Test accuracy: %.1f%%\" % accuracy(test_prediction.eval(), test_labels))"
   ]
  },
  {
   "cell_type": "code",
   "execution_count": null,
   "metadata": {
    "collapsed": true
   },
   "outputs": [],
   "source": []
  }
 ],
 "metadata": {
  "anaconda-cloud": {},
  "kernelspec": {
   "display_name": "Python [conda env:dl]",
   "language": "python",
   "name": "conda-env-dl-py"
  },
  "language_info": {
   "codemirror_mode": {
    "name": "ipython",
    "version": 3
   },
   "file_extension": ".py",
   "mimetype": "text/x-python",
   "name": "python",
   "nbconvert_exporter": "python",
   "pygments_lexer": "ipython3",
   "version": "3.5.2"
  }
 },
 "nbformat": 4,
 "nbformat_minor": 1
}
